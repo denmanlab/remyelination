{
 "cells": [
  {
   "cell_type": "code",
   "execution_count": 46,
   "id": "061af9e8-2034-4968-98af-2237635ba8c7",
   "metadata": {},
   "outputs": [
    {
     "name": "stdout",
     "output_type": "stream",
     "text": [
      "The autoreload extension is already loaded. To reload it, use:\n",
      "  %reload_ext autoreload\n"
     ]
    }
   ],
   "source": [
    "import numpy as np\n",
    "import matplotlib.pyplot as plt\n",
    "import h5py, os, sys, glob, tqdm\n",
    "import _pickle as pkl\n",
    "%matplotlib inline\n",
    "%load_ext autoreload\n",
    "%autoreload 2"
   ]
  },
  {
   "cell_type": "code",
   "execution_count": 47,
   "id": "3cb62c0e-eb69-45e9-b643-2eaba3605b28",
   "metadata": {},
   "outputs": [],
   "source": [
    "recording_folder = '/Volumes/DATA7/autobahn/20211021_7214_ABC_g0'\n",
    "stim_path      = os.path.join(recording_folder,'stim')\n",
    "experimenter = 'djd'\n",
    "experiment_description= 'for Hughes Lab collaboration on Autobahn Therepeutics remyelination therapy.'"
   ]
  },
  {
   "cell_type": "markdown",
   "id": "484eb380-9fb8-45fa-89bf-37ec17a24d71",
   "metadata": {},
   "source": [
    "# Pre-requisites:\n",
    "- kilosort run on each probe\n",
    "- phy curation, where some units marked good and some MUA \n",
    "- stimuli placed in a folder called 'stim' within each folder"
   ]
  },
  {
   "cell_type": "markdown",
   "id": "81a5537d-8ac7-40df-a831-0d4c679e87a7",
   "metadata": {},
   "source": [
    "### load stimulus information\n",
    "this will be specific to each experimental paradigm. the below is for the autobahn stimulus."
   ]
  },
  {
   "cell_type": "code",
   "execution_count": 48,
   "id": "d4820e53-787b-46ca-bff5-76a312e18517",
   "metadata": {},
   "outputs": [
    {
     "data": {
      "text/plain": [
       "['/Volumes/DATA7/autobahn/20211021_7214_ABC_g0/stim/2021-10-25-140423841815color_.pkl',\n",
       " '/Volumes/DATA7/autobahn/20211021_7214_ABC_g0/stim/2021-10-25-135209877880.pkl',\n",
       " '/Volumes/DATA7/autobahn/20211021_7214_ABC_g0/stim/211025135813-arbMatrix_highspeed-7414.pkl',\n",
       " '/Volumes/DATA7/autobahn/20211021_7214_ABC_g0/stim/211025141435-gratings_color-7414.pkl',\n",
       " '/Volumes/DATA7/autobahn/20211021_7214_ABC_g0/stim/211025134650-gratings_orientation-7414.pkl',\n",
       " '/Volumes/DATA7/autobahn/20211021_7214_ABC_g0/stim/211025135205-scene_flicker_shuffled-7414.pkl']"
      ]
     },
     "execution_count": 48,
     "metadata": {},
     "output_type": "execute_result"
    }
   ],
   "source": [
    "glob.glob(stim_path+'/**')"
   ]
  },
  {
   "cell_type": "code",
   "execution_count": 49,
   "id": "e0c6d8ae-b24f-4584-a9a4-f68f89c056d0",
   "metadata": {},
   "outputs": [],
   "source": [
    "gratings_pkl = pkl.load(open(glob.glob(stim_path+'/*gratings*')[0],'rb'))\n",
    "scene_pkl = pkl.load(open(glob.glob(stim_path+'/*scene*')[0],'rb'))\n",
    "arbMatrixcolor_pkl = pkl.load(open(glob.glob(stim_path+'/*color_*')[0],'rb'))\n",
    "arbMatrix_pkl = pkl.load(open(glob.glob(stim_path+'/*highspeed*')[0],'rb'))\n",
    "arbMatrix_matrix = pkl.load(open(np.sort(glob.glob(stim_path+'/*'))[0],'rb'))\n",
    "gratings_color_pkl = pkl.load(open(glob.glob(stim_path+'/*gratings_c*')[0],'rb'))\n",
    "\n",
    "#stimulus list\n",
    "stimuli = {'luminance_flash':None,\n",
    "           'gratings':gratings_pkl,\n",
    "           'gratings_color':gratings_color_pkl,\n",
    "           'natural_scenes':scene_pkl,\n",
    "           'spatiochromatic_noise':arbMatrixcolor_pkl,\n",
    "            'spatioluminance_noise':arbMatrix_matrix}"
   ]
  },
  {
   "cell_type": "markdown",
   "id": "2a1cdb85-9b7e-4df0-9bb9-6726a61acaa5",
   "metadata": {},
   "source": [
    "parse stimulus information.\n",
    "this currently takes ~2X recording time, for some reason. need to fix"
   ]
  },
  {
   "cell_type": "code",
   "execution_count": 50,
   "id": "68b8ecab-7eff-42d5-affd-d9da43182dbb",
   "metadata": {},
   "outputs": [],
   "source": [
    "if not os.path.exists(os.path.join(recording_folder,'digital_lines_rising_samples.pkl')):\n",
    "    #spikeGLX. ignore this cell if data is from Open Ephys GUI \n",
    "    nidaq_bin = '/Volumes/s1/autobahn/20210922_3592_ABC_g0/20210922_3592_ABC_g0_t0.nidq.bin'\n",
    "    mm = np.memmap(nidaq_bin,dtype=np.uint16)\n",
    "    digital_words = mm[8::9]\n",
    "    num_digital_channels=8 # TODO: update to get this from .meta file; from niXDChans\n",
    "    digital_lines_rising = {}\n",
    "    digital_lines_falling = {}\n",
    "    for i in tqdm.tqdm(range(digital_words.shape[0])[::10]): #note that this downsamples by factor 10, to 100kHz\n",
    "        if i==0:\n",
    "            state_previous_sample = '{0:08b}'.format(digital_words[i])\n",
    "            for line in range(num_digital_channels):\n",
    "                digital_lines_rising['D'+str(line)] = [] #initialize empty list\n",
    "                digital_lines_falling['D'+str(line)] = [] #initialize empty list\n",
    "        else:\n",
    "            state_this_sample = '{0:08b}'.format(digital_words[i])\n",
    "            changes = [j for j in range(len(state_previous_sample)) if state_previous_sample[j] != state_this_sample[j]]\n",
    "            for line in changes:   \n",
    "                    if state_this_sample[line] == '1':\n",
    "                        digital_lines_rising['D'+str(line)].extend([i*10]) #note that this scales back up to 1MHz sampling rate \n",
    "                    else:\n",
    "                        digital_lines_falling['D'+str(line)].extend([i*10])  #note that this scales back up to 1MHz sampling rate \n",
    "            state_previous_sample=state_this_sample #update sample\n",
    "    digital_lines_rising2 = {}\n",
    "    digital_lines_falling2 = {}\n",
    "    for i,key in enumerate(digital_lines_rising.keys()):\n",
    "        digital_lines_rising2['D'+str(7-i)]=np.array(digital_lines_rising[key])/10000000.\n",
    "        digital_lines_falling2['D'+str(7-i)]=np.array(digital_lines_falling[key])/10000000.\n",
    "    pkl.dump(digital_lines_rising2,open(os.path.join(recording_folder,'digital_lines_rising_samples.pkl'),'wb'))\n",
    "    pkl.dump(digital_lines_falling2,open(os.path.join(recording_folder,'digital_lines_falling_samples.pkl'),'wb'))\n",
    "else:\n",
    "    digital_lines_rising2 = pkl.load(open(os.path.join(recording_folder,'digital_lines_rising_samples.pkl'),'rb'))\n",
    "    digital_lines_falling2= pkl.load(open(os.path.join(recording_folder,'digital_lines_falling_samples.pkl'),'rb'))"
   ]
  },
  {
   "cell_type": "code",
   "execution_count": 51,
   "id": "1f965b1b-3cc6-40b6-bd3c-d89f33973bf9",
   "metadata": {},
   "outputs": [
    {
     "data": {
      "text/plain": [
       "<matplotlib.legend.Legend at 0x7f88b8681090>"
      ]
     },
     "execution_count": 51,
     "metadata": {},
     "output_type": "execute_result"
    },
    {
     "data": {
      "image/png": "[encoded data removed]",
      "text/plain": [
       "<Figure size 432x288 with 1 Axes>"
      ]
     },
     "metadata": {
      "needs_background": "light"
     },
     "output_type": "display_data"
    }
   ],
   "source": [
    "for ch in ([1,2,3,4]):\n",
    "    plt.plot(np.array(digital_lines_rising2['D'+str(ch)]),\n",
    "             np.ones(len(digital_lines_rising2['D'+str(ch)]))*ch,\n",
    "             '|',label=ch)\n",
    "plt.legend()"
   ]
  },
  {
   "cell_type": "code",
   "execution_count": 52,
   "id": "bc57ff4e-23c7-474e-9f81-446c0ad395b1",
   "metadata": {},
   "outputs": [],
   "source": [
    "flashes_times = digital_lines_rising2['D2'][1:np.where(np.diff(digital_lines_rising2['D2'])>50.)[0][0]+1]\n",
    "gratings_times= digital_lines_rising2['D1'][1:221]\n",
    "gratings_color_times= digital_lines_rising2['D1'][222:]\n",
    "scenes_times= digital_lines_rising2['D2'][np.where(np.diff(digital_lines_rising2['D2'])>50.)[0][0]+1:-1]\n",
    "highspeed_times = digital_lines_rising2['D3'][1:-1]\n",
    "color_times = digital_lines_rising2['D4'][1:]"
   ]
  },
  {
   "cell_type": "code",
   "execution_count": 53,
   "id": "01d50dc7-f7f4-42f9-b4d7-0836cddaeea3",
   "metadata": {},
   "outputs": [
    {
     "data": {
      "text/plain": [
       "array([1488.21357, 1488.25566, 1488.30556, ..., 1848.03612, 1848.08624,\n",
       "       1848.13603])"
      ]
     },
     "execution_count": 53,
     "metadata": {},
     "output_type": "execute_result"
    }
   ],
   "source": [
    "color_times"
   ]
  },
  {
   "cell_type": "code",
   "execution_count": 54,
   "id": "031b374d-992d-4391-9aa4-444a2fe496f0",
   "metadata": {},
   "outputs": [],
   "source": [
    "if np.shape(color_times)[0]!=7200 \\\n",
    "    or np.shape(highspeed_times)[0]!=7200\\\n",
    "    or np.shape(scenes_times)[0]!=len(stimuli['natural_scenes']['bgsweeporder'])\\\n",
    "    or np.shape(gratings_times)[0]!=220\\\n",
    "    or np.shape(flashes_times)[0]!=100:\n",
    "    print('problem. '+str(np.shape(highspeed_times)[0]))\n",
    "else:\n",
    "    stimuli_times = {'luminance_flash':flashes_times,\n",
    "                       'gratings':gratings_times,\n",
    "                     'gratings_color':gratings_color_times,\n",
    "                       'natural_scenes':scenes_times,\n",
    "                       'spatiochromatic_noise':color_times,\n",
    "                        'spatioluminance_noise':highspeed_times}"
   ]
  },
  {
   "cell_type": "markdown",
   "id": "95f6a603-3637-4d7d-94cb-8ac0707c4741",
   "metadata": {},
   "source": [
    "### load sorted units"
   ]
  },
  {
   "cell_type": "code",
   "execution_count": 55,
   "id": "bc9c6164-266a-4234-b10b-9e9497225117",
   "metadata": {},
   "outputs": [],
   "source": [
    "from dlab.nwbtools import df_from_phy, load_phy_template, option234_positions, multi_load_unit_data\n",
    "import pandas as pd"
   ]
  },
  {
   "cell_type": "code",
   "execution_count": 56,
   "id": "10b83e86-c10c-4bd1-bfe8-58344e95e177",
   "metadata": {},
   "outputs": [],
   "source": [
    "#spikeglx\n",
    "probes = [os.path.basename(f) for f in np.sort(glob.glob(recording_folder+'/*imec*'))]\n",
    "probeids = ['A','B','C'] \n",
    "probedepths = [1200,1200,1250] "
   ]
  },
  {
   "cell_type": "code",
   "execution_count": 57,
   "id": "7d9e18d1-98ba-47e6-90dd-9e1451730dd2",
   "metadata": {},
   "outputs": [
    {
     "data": {
      "text/plain": [
       "['20211021_7214_ABC_g0_imec0',\n",
       " '20211021_7214_ABC_g0_imec1',\n",
       " '20211021_7214_ABC_g0_imec2']"
      ]
     },
     "execution_count": 57,
     "metadata": {},
     "output_type": "execute_result"
    }
   ],
   "source": [
    "probes"
   ]
  },
  {
   "cell_type": "code",
   "execution_count": 61,
   "id": "0acb638f-5413-4b7b-a200-76bfbc4672dd",
   "metadata": {
    "tags": []
   },
   "outputs": [],
   "source": [
    "unit_dfs = []\n",
    "for i,probe in enumerate(probes):\n",
    "    #make a units DataFrame\n",
    "    units = load_phy_template(os.path.join(recording_folder,probe))\n",
    "    df = pd.DataFrame.from_dict(units,orient='index')\n",
    "    df['probe'] = [probeids[i]]*df.shape[0]\n",
    "    df['depth'] = np.array(df['ypos']-3840)+probedepths[i]\n",
    "    #waveform\n",
    "    unit_dfs.extend([df])"
   ]
  },
  {
   "cell_type": "code",
   "execution_count": 62,
   "id": "e38a8407-aedf-46bb-8740-2feb8b2592fb",
   "metadata": {
    "tags": []
   },
   "outputs": [],
   "source": [
    "df_units = pd.concat(unit_dfs)"
   ]
  },
  {
   "cell_type": "code",
   "execution_count": 63,
   "id": "2fe99842-8a3d-4182-baf6-df44834df5ab",
   "metadata": {
    "tags": []
   },
   "outputs": [
    {
     "data": {
      "text/html": [
       "<div>\n",
       "<style scoped>\n",
       "    .dataframe tbody tr th:only-of-type {\n",
       "        vertical-align: middle;\n",
       "    }\n",
       "\n",
       "    .dataframe tbody tr th {\n",
       "        vertical-align: top;\n",
       "    }\n",
       "\n",
       "    .dataframe thead th {\n",
       "        text-align: right;\n",
       "    }\n",
       "</style>\n",
       "<table border=\"1\" class=\"dataframe\">\n",
       "  <thead>\n",
       "    <tr style=\"text-align: right;\">\n",
       "      <th></th>\n",
       "      <th>samples</th>\n",
       "      <th>times</th>\n",
       "      <th>template</th>\n",
       "      <th>waveform_weights</th>\n",
       "      <th>xpos</th>\n",
       "      <th>ypos</th>\n",
       "      <th>label</th>\n",
       "      <th>KSlabel</th>\n",
       "      <th>KSamplitude</th>\n",
       "      <th>KScontamination</th>\n",
       "      <th>probe</th>\n",
       "      <th>depth</th>\n",
       "    </tr>\n",
       "  </thead>\n",
       "  <tbody>\n",
       "    <tr>\n",
       "      <th>0</th>\n",
       "      <td>[1091057, 1097745, 1744032, 2167195, 3066766, ...</td>\n",
       "      <td>[36.368566666666666, 36.5915, 58.1344, 72.2398...</td>\n",
       "      <td>[[0.0, 0.0, 0.0, 0.0, 0.0, 0.0, 0.0, 0.0, 0.0,...</td>\n",
       "      <td>[[1.0, 1.0], [0.6417236709716453, 0.6417236709...</td>\n",
       "      <td>32.394678</td>\n",
       "      <td>3810.346417</td>\n",
       "      <td>good</td>\n",
       "      <td>good</td>\n",
       "      <td>938.2</td>\n",
       "      <td>100.0</td>\n",
       "      <td>A</td>\n",
       "      <td>1170.346417</td>\n",
       "    </tr>\n",
       "    <tr>\n",
       "      <th>1</th>\n",
       "      <td>[839076, 4099712, 5937081, 6135197, 8581472, 9...</td>\n",
       "      <td>[27.9692, 136.65706666666668, 197.9027, 204.50...</td>\n",
       "      <td>[[0.0, 0.0, 0.0, 0.0, 0.0, 0.0, 0.0, 0.0, 0.0,...</td>\n",
       "      <td>[[1.0, 1.0], [0.5274143916747788, 0.5274143916...</td>\n",
       "      <td>27.001167</td>\n",
       "      <td>3780.368758</td>\n",
       "      <td>good</td>\n",
       "      <td>good</td>\n",
       "      <td>456.4</td>\n",
       "      <td>100.0</td>\n",
       "      <td>A</td>\n",
       "      <td>1140.368758</td>\n",
       "    </tr>\n",
       "    <tr>\n",
       "      <th>2</th>\n",
       "      <td>[4406, 13861, 32863, 35574, 40690, 41047, 4198...</td>\n",
       "      <td>[0.14686666666666667, 0.46203333333333335, 1.0...</td>\n",
       "      <td>[[0.0, 0.0, 0.0, 0.0, 0.0, 0.0, 0.0, 0.0, 0.0,...</td>\n",
       "      <td>[[1.0, 1.0], [0.6616849499895592, 0.6616849499...</td>\n",
       "      <td>29.138833</td>\n",
       "      <td>3791.394793</td>\n",
       "      <td>mua</td>\n",
       "      <td>mua</td>\n",
       "      <td>744.4</td>\n",
       "      <td>124.8</td>\n",
       "      <td>A</td>\n",
       "      <td>1151.394793</td>\n",
       "    </tr>\n",
       "    <tr>\n",
       "      <th>3</th>\n",
       "      <td>[2959393, 2961614, 4375148, 5435864, 6257236, ...</td>\n",
       "      <td>[98.64643333333333, 98.72046666666667, 145.838...</td>\n",
       "      <td>[[0.0, 0.0, 0.0, 0.0, 0.0, 0.0, 0.0, 0.0, 0.0,...</td>\n",
       "      <td>[[1.0, 1.0], [0.8984060060041581, 0.8984060060...</td>\n",
       "      <td>27.812208</td>\n",
       "      <td>3705.415287</td>\n",
       "      <td>mua</td>\n",
       "      <td>mua</td>\n",
       "      <td>312.7</td>\n",
       "      <td>0.0</td>\n",
       "      <td>A</td>\n",
       "      <td>1065.415287</td>\n",
       "    </tr>\n",
       "    <tr>\n",
       "      <th>4</th>\n",
       "      <td>[378, 617, 681, 1583, 1802, 2094, 3090, 32147,...</td>\n",
       "      <td>[0.0126, 0.020566666666666667, 0.0227, 0.05276...</td>\n",
       "      <td>[[0.0, 0.0, 0.0, 0.0, 0.0, 0.0, 0.0, 0.0, 0.0,...</td>\n",
       "      <td>[[1.0, 1.0], [0.823921297539701, 0.82392129753...</td>\n",
       "      <td>28.561772</td>\n",
       "      <td>3683.311407</td>\n",
       "      <td>mua</td>\n",
       "      <td>mua</td>\n",
       "      <td>359.5</td>\n",
       "      <td>59.0</td>\n",
       "      <td>A</td>\n",
       "      <td>1043.311407</td>\n",
       "    </tr>\n",
       "  </tbody>\n",
       "</table>\n",
       "</div>"
      ],
      "text/plain": [
       "                                             samples  \\\n",
       "0  [1091057, 1097745, 1744032, 2167195, 3066766, ...   \n",
       "1  [839076, 4099712, 5937081, 6135197, 8581472, 9...   \n",
       "2  [4406, 13861, 32863, 35574, 40690, 41047, 4198...   \n",
       "3  [2959393, 2961614, 4375148, 5435864, 6257236, ...   \n",
       "4  [378, 617, 681, 1583, 1802, 2094, 3090, 32147,...   \n",
       "\n",
       "                                               times  \\\n",
       "0  [36.368566666666666, 36.5915, 58.1344, 72.2398...   \n",
       "1  [27.9692, 136.65706666666668, 197.9027, 204.50...   \n",
       "2  [0.14686666666666667, 0.46203333333333335, 1.0...   \n",
       "3  [98.64643333333333, 98.72046666666667, 145.838...   \n",
       "4  [0.0126, 0.020566666666666667, 0.0227, 0.05276...   \n",
       "\n",
       "                                            template  \\\n",
       "0  [[0.0, 0.0, 0.0, 0.0, 0.0, 0.0, 0.0, 0.0, 0.0,...   \n",
       "1  [[0.0, 0.0, 0.0, 0.0, 0.0, 0.0, 0.0, 0.0, 0.0,...   \n",
       "2  [[0.0, 0.0, 0.0, 0.0, 0.0, 0.0, 0.0, 0.0, 0.0,...   \n",
       "3  [[0.0, 0.0, 0.0, 0.0, 0.0, 0.0, 0.0, 0.0, 0.0,...   \n",
       "4  [[0.0, 0.0, 0.0, 0.0, 0.0, 0.0, 0.0, 0.0, 0.0,...   \n",
       "\n",
       "                                    waveform_weights       xpos         ypos  \\\n",
       "0  [[1.0, 1.0], [0.6417236709716453, 0.6417236709...  32.394678  3810.346417   \n",
       "1  [[1.0, 1.0], [0.5274143916747788, 0.5274143916...  27.001167  3780.368758   \n",
       "2  [[1.0, 1.0], [0.6616849499895592, 0.6616849499...  29.138833  3791.394793   \n",
       "3  [[1.0, 1.0], [0.8984060060041581, 0.8984060060...  27.812208  3705.415287   \n",
       "4  [[1.0, 1.0], [0.823921297539701, 0.82392129753...  28.561772  3683.311407   \n",
       "\n",
       "  label KSlabel KSamplitude KScontamination probe        depth  \n",
       "0  good    good       938.2           100.0     A  1170.346417  \n",
       "1  good    good       456.4           100.0     A  1140.368758  \n",
       "2   mua     mua       744.4           124.8     A  1151.394793  \n",
       "3   mua     mua       312.7             0.0     A  1065.415287  \n",
       "4   mua     mua       359.5            59.0     A  1043.311407  "
      ]
     },
     "execution_count": 63,
     "metadata": {},
     "output_type": "execute_result"
    }
   ],
   "source": [
    "df_units.head()"
   ]
  },
  {
   "cell_type": "markdown",
   "id": "736b8bab-e189-48d5-8319-e0708605e5ca",
   "metadata": {},
   "source": [
    "do unit quailty analysis; add to df"
   ]
  },
  {
   "cell_type": "code",
   "execution_count": null,
   "id": "ab0e912e-b773-4647-896a-8e2652bfc0d8",
   "metadata": {},
   "outputs": [],
   "source": [
    "# print('PCA quality took '+str(time.time()-t0)+' sec');t0 = time.time()\n",
    "# isiV = sq.isiViolations(directory,time_limits)"
   ]
  },
  {
   "cell_type": "markdown",
   "id": "17a0fa0d-0a7c-4808-9254-b2a2b262f614",
   "metadata": {},
   "source": [
    "## Assemble NWB"
   ]
  },
  {
   "cell_type": "code",
   "execution_count": 85,
   "id": "4c2f98b6-7a46-4c01-b78c-5db2b4f09e91",
   "metadata": {},
   "outputs": [],
   "source": [
    "import pynwb\n",
    "from hdmf.backends.hdf5.h5_utils import H5DataIO\n",
    "from hdmf.utils import StrDataset"
   ]
  },
  {
   "cell_type": "code",
   "execution_count": 86,
   "id": "4f72681b-0edc-4948-a92d-0c3f12511077",
   "metadata": {},
   "outputs": [],
   "source": [
    "from datetime import datetime\n",
    "from dateutil.tz import tzlocal\n",
    "from pynwb import NWBFile\n",
    "\n",
    "nwbfile = NWBFile('Autobahn_myelin', \n",
    "                  recording_folder, \n",
    "                  datetime.now(tzlocal()),\n",
    "                  experimenter=experimenter,\n",
    "                  lab='Denman Lab',\n",
    "                  institution='University of Colorado',\n",
    "                  experiment_description=experiment_description,\n",
    "                  session_id=os.path.basename(recording_folder))"
   ]
  },
  {
   "cell_type": "markdown",
   "id": "ecdd71ce-13fd-4fa2-ae79-d024de718490",
   "metadata": {},
   "source": [
    "### add stimulus information"
   ]
  },
  {
   "cell_type": "code",
   "execution_count": 88,
   "id": "ea613c64-2f1c-450e-a342-386764cac621",
   "metadata": {},
   "outputs": [
    {
     "data": {
      "text/plain": [
       "dict_keys(['luminance_flash', 'gratings', 'gratings_color', 'natural_scenes', 'spatiochromatic_noise', 'spatioluminance_noise'])"
      ]
     },
     "execution_count": 88,
     "metadata": {},
     "output_type": "execute_result"
    }
   ],
   "source": [
    "stimuli_times.keys()"
   ]
  },
  {
   "cell_type": "code",
   "execution_count": 89,
   "id": "91b571ce-79c1-42f6-b669-4943b7cb34cb",
   "metadata": {},
   "outputs": [],
   "source": [
    "for stim in stimuli_times.keys():\n",
    "    nwbfile.add_epoch(stimuli_times[stim][0], \n",
    "                      stimuli_times[stim][-1]+3.,\n",
    "                      [stim])"
   ]
  },
  {
   "cell_type": "code",
   "execution_count": 90,
   "id": "cc452499-b75b-4b6d-a187-fe6b9d75dc12",
   "metadata": {},
   "outputs": [],
   "source": [
    "nwbfile.add_trial_column('stimulus', 'the stimulus during this trial')\n",
    "nwbfile.add_trial_column('stimulus_info', 'the stimulus descriptor')\n",
    "\n",
    "lums = ['white','black']\n",
    "stim = 'luminance_flash'\n",
    "for i,trial_start in enumerate(stimuli_times[stim]):\n",
    "    nwbfile.add_trial(start_time=trial_start, stop_time=trial_start+np.mean(np.diff(stimuli_times[stim])), stimulus=stim,stimulus_info=[lums[i%2]])\n",
    "\n",
    "stim = 'gratings'\n",
    "info = [stimuli[stim]['bgsweeptable'][ind] for ind in stimuli[stim]['bgsweeporder']]\n",
    "for i,trial_start in enumerate(stimuli_times[stim]):\n",
    "    nwbfile.add_trial(start_time=trial_start, stop_time=trial_start+np.mean(np.diff(stimuli_times[stim])), stimulus=stim,stimulus_info=[info[i]])\n",
    "\n",
    "stim = 'natural_scenes'\n",
    "for i,trial_start in enumerate(stimuli_times[stim]):\n",
    "    nwbfile.add_trial(start_time=trial_start, stop_time=trial_start+np.mean(np.diff(stimuli_times[stim])), stimulus=stim,stimulus_info=[stimuli[stim]['bgsweeporder'][i]])\n",
    "\n",
    "stim = 'spatiochromatic_noise'\n",
    "for i,trial_start in enumerate(stimuli_times[stim]):\n",
    "    nwbfile.add_trial(start_time=trial_start, stop_time=trial_start+np.mean(np.diff(stimuli_times[stim])), stimulus=stim,stimulus_info=[stimuli['spatiochromatic_noise']['stackG'][i].tolist(),stimuli['spatiochromatic_noise']['stackB'][i].tolist()])\n",
    "\n",
    "stim = 'spatioluminance_noise'\n",
    "for i,trial_start in enumerate(stimuli_times[stim]):\n",
    "    nwbfile.add_trial(start_time=trial_start, stop_time=trial_start+np.mean(np.diff(stimuli_times[stim])), stimulus=stim,stimulus_info=stimuli['spatioluminance_noise'][i].tolist())"
   ]
  },
  {
   "cell_type": "markdown",
   "id": "72459b56-e554-4e5c-87a5-1246d38f508e",
   "metadata": {},
   "source": [
    "### add ephys data\n",
    "first add electrodes and raw data link"
   ]
  },
  {
   "cell_type": "code",
   "execution_count": 91,
   "id": "28b768e5-f421-4756-9718-d05a3932fc8e",
   "metadata": {},
   "outputs": [],
   "source": [
    "device = nwbfile.create_device(name='DenmanLab_EphysRig1')\n",
    "for i, probe in enumerate(probes):\n",
    "    electrode_name = 'probe'+str(i)\n",
    "    description = \"Neuropixels1.0_\"+probeids[i]\n",
    "    location = \"primary visual cortex\"\n",
    "\n",
    "    electrode_group = nwbfile.create_electrode_group(electrode_name,\n",
    "                                                     description=description,\n",
    "                                                     location=location,\n",
    "                                                     device=device)\n",
    "    \n",
    "    #add channels to each probe\n",
    "    for ch in range(option234_positions.shape[0]):\n",
    "        nwbfile.add_electrode(x=option234_positions[ch,0],y=0.,z=option234_positions[0,1],imp=0.0,location='none',filtering='high pass 300Hz',group=electrode_group)\n",
    "    \n",
    "#     if len(glob.glob(os.path.join(recording_folder,probes[1])+'/*lf.b*')) > 0:\n",
    "#         ephys_ts = pynwb.ecephys.ElectricalSeries('lfp_probe'+probeids[i],\n",
    "#                                 data=H5DataIO(data=StrDataset(glob.glob(os.path.join(recording_folder,probes[1])+'/*lf.b*')[0]),    \n",
    "#                                         link_data=True),\n",
    "#                                 electrodes = electrode_group,\n",
    "#                                 starting_time=0,\n",
    "#                                 rate=2500,\n",
    "#                                 resolution=0.001,\n",
    "#                                 comments=\"V1, depth = 1500um\",\n",
    "#                                 description=\"V1, depth = 1500um\")\n",
    "#         nwbfile.add_acquisition(ephys_ts)"
   ]
  },
  {
   "cell_type": "code",
   "execution_count": 81,
   "id": "f258e6d9-d05a-423a-8ef2-0e61b3811b25",
   "metadata": {},
   "outputs": [],
   "source": [
    "#dummy\n",
    "nwbfile.add_electrode(x=0.,y=0.,z=0.,imp=10.0,location='none',filtering='some',group=electrode_group)"
   ]
  },
  {
   "cell_type": "code",
   "execution_count": 82,
   "id": "3114110e-3ebf-4333-88d2-73ec12358c7f",
   "metadata": {},
   "outputs": [],
   "source": [
    "electrode_table_region = nwbfile.create_electrode_table_region([0], 'the second and third electrodes')"
   ]
  },
  {
   "cell_type": "markdown",
   "id": "8c06772f-ad16-4e09-a6b7-3b5b68385f37",
   "metadata": {},
   "source": [
    "then add sorted units"
   ]
  },
  {
   "cell_type": "code",
   "execution_count": 43,
   "id": "7a1cd163-9e20-430f-9df9-fc2a47397508",
   "metadata": {},
   "outputs": [],
   "source": [
    "# df_units.rename(columns = {'ypos':'zpos'}, inplace = True)"
   ]
  },
  {
   "cell_type": "code",
   "execution_count": 92,
   "id": "2968e040-5c24-403d-8770-f487b2558318",
   "metadata": {},
   "outputs": [],
   "source": [
    "# nwbfile.add_unit_column('location', 'the anatomical location of this unit')\n",
    "# nwbfile.add_unit_column('quality', 'the quality for the inference of this unit')\n",
    "# nwbfile.add_unit_column('quality_ISIviolations', 'the quality for the inference of this unit')\n",
    "# nwbfile.add_unit_column('quality_sn', 'the quality for the inference of this unit')\n",
    "# nwbfile.add_unit_column('quality_distance', 'the quality for the inference of this unit')\n",
    "nwbfile.add_unit_column('depth', 'the depth of this unit from the pia')\n",
    "nwbfile.add_unit_column('xpos', 'the x position on probe')\n",
    "nwbfile.add_unit_column('ypos', 'the z position on probe')\n",
    "# nwbfile.add_unit_column('template', 'Kilosort template')\n",
    "nwbfile.add_unit_column('label', 'user label')\n",
    "nwbfile.add_unit_column('KSlabel', 'Kilosort label')\n",
    "nwbfile.add_unit_column('KSamplitude', 'Kilosort amplitude')\n",
    "nwbfile.add_unit_column('KScontamination', 'Kilosort ISI contamination')\n",
    "nwbfile.add_unit_column('probe', 'probe ID')\n",
    "\n",
    "for i,unit_row in df_units.iterrows():\n",
    "    nwbfile.add_unit(id=int(unit_row.name), \n",
    "                     spike_times=unit_row.times,\n",
    "                     electrodes = np.where(unit_row.waveform_weights > 0)[0],\n",
    "#                      waveform_mean = #(time,electrodes)\n",
    "#                       quality=0.95\n",
    "                     depth = unit_row.depth,\n",
    "                     xpos= unit_row.xpos,\n",
    "                     ypos= unit_row.ypos,\n",
    "#                      template= unit_row.template,\n",
    "                     label= unit_row.label,\n",
    "                     KSlabel= unit_row.KSlabel,\n",
    "                     KSamplitude= unit_row.KSamplitude,\n",
    "                     KScontamination= unit_row.KScontamination,\n",
    "                     probe= unit_row.probe)"
   ]
  },
  {
   "cell_type": "markdown",
   "id": "d8f794cb-2c1b-4aa3-981c-f19e95d119b1",
   "metadata": {},
   "source": [
    "#### add lfp data\n"
   ]
  },
  {
   "cell_type": "code",
   "execution_count": 26,
   "id": "7a9a8989-7559-4111-8054-8c0d230b760a",
   "metadata": {},
   "outputs": [],
   "source": [
    "lfp_data_path = glob.glob(os.path.join(recording_folder,probes[1])+'/*.lf.bin')[0]"
   ]
  },
  {
   "cell_type": "code",
   "execution_count": 27,
   "id": "0fb35d60-0cb6-4a81-8906-1664ee3c492e",
   "metadata": {},
   "outputs": [],
   "source": [
    "from pynwb import TimeSeries\n",
    "\n",
    "data = np.memmap(lfp_data_path,dtype=np.uint16).reshape(-1,385)\n",
    "\n",
    "wrapped_data = H5DataIO(data=data, compression=True)     # <----\n",
    "\n",
    "test_ts = TimeSeries(name='lfp_imec1_compressed_timeseries',\n",
    "                     data=wrapped_data,                  # <----\n",
    "                     unit='SIunit',\n",
    "                     timestamps=np.linspace(0,(1/2500.*data.shape[0]),data.shape[0]))\n",
    "nwbfile.add_acquisition(test_ts)"
   ]
  },
  {
   "cell_type": "code",
   "execution_count": 28,
   "id": "a8537b18-85b8-4a0b-89ab-a2b1d4596b89",
   "metadata": {},
   "outputs": [],
   "source": [
    "lfp_data_path = glob.glob(os.path.join(recording_folder,probes[2])+'/*.lf.bin')[0]\n",
    "from pynwb import TimeSeries\n",
    "\n",
    "data = np.memmap(lfp_data_path,dtype=np.uint16).reshape(-1,385)\n",
    "\n",
    "wrapped_data = H5DataIO(data=data, compression=True)     # <----\n",
    "\n",
    "test_ts = TimeSeries(name='lfp_imec2_compressed_timeseries',\n",
    "                     data=wrapped_data,                  # <----\n",
    "                     unit='SIunit',\n",
    "                     timestamps=np.linspace(0,(1/2500.*data.shape[0]),data.shape[0]))\n",
    "nwbfile.add_acquisition(test_ts)"
   ]
  },
  {
   "cell_type": "code",
   "execution_count": 29,
   "id": "52153718-076d-4189-8ead-2ad6b6d9ebf7",
   "metadata": {},
   "outputs": [],
   "source": [
    "lfp_data_path = glob.glob(os.path.join(recording_folder,probes[0])+'/*.lf.bin')[0]\n",
    "from pynwb import TimeSeries\n",
    "\n",
    "data = np.memmap(lfp_data_path,dtype=np.uint16).reshape(-1,385)\n",
    "\n",
    "wrapped_data = H5DataIO(data=data, compression=True)     # <----\n",
    "\n",
    "test_ts = TimeSeries(name='lfp_imec0_compressed_timeseries',\n",
    "                     data=wrapped_data,                  # <----\n",
    "                     unit='SIunit',\n",
    "                     timestamps=np.linspace(0,(1/2500.*data.shape[0]),data.shape[0]))\n",
    "nwbfile.add_acquisition(test_ts)"
   ]
  },
  {
   "cell_type": "markdown",
   "id": "064858ad-ba5d-4589-bd55-d4cf011b8f4d",
   "metadata": {},
   "source": [
    "#### optionally add behavior"
   ]
  },
  {
   "cell_type": "code",
   "execution_count": 30,
   "id": "37d66246-4f9d-4635-b103-51c4dc79a74f",
   "metadata": {},
   "outputs": [
    {
     "name": "stdout",
     "output_type": "stream",
     "text": [
      "no behavior data found\n"
     ]
    }
   ],
   "source": [
    "if len(glob.glob(os.path.join(recording_folder,'behavior*')))>0:\n",
    "    pass #TODO\n",
    "else: print('no behavior data found')"
   ]
  },
  {
   "cell_type": "markdown",
   "id": "296f9b1c-58be-4c6e-896c-837117e72cf2",
   "metadata": {},
   "source": [
    "#### optionally add eyetracking"
   ]
  },
  {
   "cell_type": "code",
   "execution_count": 31,
   "id": "436498cd-08db-4d53-bc56-28fdad43ffba",
   "metadata": {},
   "outputs": [
    {
     "name": "stdout",
     "output_type": "stream",
     "text": [
      "no eyetracking data found\n"
     ]
    }
   ],
   "source": [
    "if len(glob.glob(os.path.join(recording_folder,'eyetrack*')))>0:\n",
    "    pass #TODO\n",
    "else: print('no eyetracking data found')"
   ]
  },
  {
   "cell_type": "markdown",
   "id": "d50fe0b1-7e3c-4fad-93e8-2a148da4c6bd",
   "metadata": {},
   "source": [
    "# Write NWB"
   ]
  },
  {
   "cell_type": "code",
   "execution_count": 93,
   "id": "2c2c595a-b13e-4caa-9f42-695cfb205cb4",
   "metadata": {},
   "outputs": [],
   "source": [
    "nwb_path = os.path.join(recording_folder,os.path.basename(recording_folder))+'_2.nwb'\n",
    "with pynwb.NWBHDF5IO(nwb_path, 'w') as io:\n",
    "    io.write(nwbfile)"
   ]
  },
  {
   "cell_type": "markdown",
   "id": "aa851df3-b534-4976-b1d1-3354ac818fdd",
   "metadata": {},
   "source": [
    "<br>\n",
    "<br>\n",
    "<br>\n",
    "<br>\n",
    "<br>\n",
    "\n",
    "# Read NWB"
   ]
  },
  {
   "cell_type": "code",
   "execution_count": null,
   "id": "2bb9e6bf-5aa6-4da4-b6ca-4738c1189eac",
   "metadata": {},
   "outputs": [
    {
     "data": {
      "application/vnd.jupyter.widget-view+json": {
       "model_id": "",
       "version_major": 2,
       "version_minor": 0
      },
      "text/plain": [
       "VBox(children=(HBox(children=(Label(value='session_description:', layout=Layout(max_height='40px', max_width='…"
      ]
     },
     "metadata": {},
     "output_type": "display_data"
    }
   ],
   "source": [
    "from pynwb import NWBHDF5IO\n",
    "from nwbwidgets import nwb2widget\n",
    "import h5py, glob, os\n",
    "import numpy as np\n",
    "import matplotlib.pyplot as plt\n",
    "\n",
    "# nwb_path = '/Volumes/DATA7/autobahn/20210923_3593_ABC_g0/20210923_3593_ABC_g09.nwb'\n",
    "io = NWBHDF5IO(nwb_path, mode='r')\n",
    "nwb_ = io.read()\n",
    "\n",
    "nwb2widget(nwb_)"
   ]
  }
 ],
 "metadata": {
  "kernelspec": {
   "display_name": "Python 3",
   "language": "python",
   "name": "python3"
  },
  "language_info": {
   "codemirror_mode": {
    "name": "ipython",
    "version": 3
   },
   "file_extension": ".py",
   "mimetype": "text/x-python",
   "name": "python",
   "nbconvert_exporter": "python",
   "pygments_lexer": "ipython3",
   "version": "3.7.11"
  }
 },
 "nbformat": 4,
 "nbformat_minor": 5
}
